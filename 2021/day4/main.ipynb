{
 "cells": [
  {
   "cell_type": "markdown",
   "metadata": {},
   "source": [
    "Part 1"
   ]
  },
  {
   "cell_type": "code",
   "execution_count": 9,
   "metadata": {},
   "outputs": [
    {
     "name": "stdout",
     "output_type": "stream",
     "text": [
      "845186\n"
     ]
    }
   ],
   "source": [
    "f = open('input.txt', 'r')\n",
    "lines = f.readlines()\n",
    "nested = []\n",
    "ordered = [[], [], [], [], [], [], [], [], [], [], [], []]\n",
    "gamma = ''\n",
    "epsilon = ''\n",
    "for line in lines:\n",
    "    array = []\n",
    "    for i in line:\n",
    "        if i != '\\n':\n",
    "            array.append(i)\n",
    "    nested.append(array)\n",
    "for i in nested:\n",
    "    for j in range(len(i)):\n",
    "        ordered[j].append(i[j])\n",
    "for i in ordered:\n",
    "    if i.count('1') > i.count('0'):\n",
    "        gamma += '1'\n",
    "        epsilon += '0'\n",
    "    else:\n",
    "        gamma += '0'\n",
    "        epsilon += '1'\n",
    "\n",
    "print(int(gamma, 2)*int(epsilon, 2))\n"
   ]
  },
  {
   "cell_type": "markdown",
   "metadata": {},
   "source": [
    "Part 2"
   ]
  },
  {
   "cell_type": "code",
   "execution_count": null,
   "metadata": {},
   "outputs": [],
   "source": []
  }
 ],
 "metadata": {
  "kernelspec": {
   "display_name": "Python 3.9.6 64-bit",
   "language": "python",
   "name": "python3"
  },
  "language_info": {
   "codemirror_mode": {
    "name": "ipython",
    "version": 3
   },
   "file_extension": ".py",
   "mimetype": "text/x-python",
   "name": "python",
   "nbconvert_exporter": "python",
   "pygments_lexer": "ipython3",
   "version": "3.9.6"
  },
  "orig_nbformat": 4,
  "vscode": {
   "interpreter": {
    "hash": "31f2aee4e71d21fbe5cf8b01ff0e069b9275f58929596ceb00d14d90e3e16cd6"
   }
  }
 },
 "nbformat": 4,
 "nbformat_minor": 2
}
